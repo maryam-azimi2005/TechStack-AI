{
 "cells": [
  {
   "cell_type": "markdown",
   "id": "59480372",
   "metadata": {},
   "source": [
    "# Puzzle Solver 🧩"
   ]
  },
  {
   "cell_type": "code",
   "execution_count": null,
   "id": "initial_id",
   "metadata": {
    "ExecuteTime": {
     "end_time": "2025-07-29T18:57:27.145921Z",
     "start_time": "2025-07-29T18:57:27.124172Z"
    },
    "collapsed": true
   },
   "outputs": [],
   "source": [
    "# Don't worry about it it just used for easier coding:\n",
    "import os\n",
    "import glob \n",
    "\n",
    "import numpy as np\n",
    "from PIL import Image\n",
    "import matplotlib.pyplot as plt"
   ]
  },
  {
   "cell_type": "code",
   "execution_count": null,
   "id": "3b1b4e19fa6a5a43",
   "metadata": {},
   "outputs": [],
   "source": [
    "# path of dataset change with your own path\n",
    "folder_path = r\"Puzzle_1_40\""
   ]
  },
  {
   "cell_type": "code",
   "execution_count": null,
   "id": "b0f37672",
   "metadata": {},
   "outputs": [],
   "source": [
    "#Read Images\n",
    "output_file = os.path.join(folder_path, \"Output.tif\")\n",
    "patch_files = glob.glob(os.path.join(folder_path, \"Patch_*.tif\"))\n",
    "\n",
    "corners_img = np.array(Image.open(output_file))\n",
    "# Get copy of image to edit it later\n",
    "base_img = corners_img.copy()\n",
    "\n",
    "patches = [np.array(Image.open(patch_file)) for patch_file in patch_files]"
   ]
  },
  {
   "cell_type": "code",
   "execution_count": null,
   "id": "3dba93d1",
   "metadata": {},
   "outputs": [],
   "source": [
    "plt.imshow(base_img)\n",
    "plt.axis('off')\n",
    "plt.show()"
   ]
  },
  {
   "cell_type": "code",
   "execution_count": null,
   "id": "881750e9",
   "metadata": {},
   "outputs": [],
   "source": [
    "# TODO:\n",
    "# Now you should solve puzzle do it the best you can.\n",
    "def puzzle_solver():\n",
    "    # Store final image - change the code as you needed.\n",
    "    final_img = base_img.copy()\n",
    "    return final_img"
   ]
  },
  {
   "cell_type": "code",
   "execution_count": null,
   "id": "74498f82",
   "metadata": {},
   "outputs": [],
   "source": [
    "# Test and Save final Image\n",
    "final_img = puzzle_solver()\n",
    "Image.fromarray(final_img).save(os.path.join(folder_path, \"final.tif\"))"
   ]
  },
  {
   "cell_type": "code",
   "execution_count": null,
   "id": "aac244b3",
   "metadata": {},
   "outputs": [],
   "source": [
    "# Now it's time to find what's our final image good base on original image\n",
    "\n",
    "# This properties are determined according to the dataset:\n",
    "rows, cols = 5, 8\n",
    "img_width, img_height = 1920, 1200\n",
    "patch_width, patch_height = img_width // cols, img_height // rows\n",
    "\n",
    "def accuracy_block_base(original_img, final_img, rows, cols):\n",
    "    correct_blocks = 0\n",
    "    total_blocks = rows * cols \n",
    "    for row in range(rows):\n",
    "        for col in range(cols):\n",
    "            patch = final_img[row*patch_height:(row+1)*patch_height, col*patch_width:(col+1)*patch_width]\n",
    "            original_patch = original_img[row*patch_height:(row+1)*patch_height, col*patch_width:(col+1)*patch_width]\n",
    "\n",
    "            if np.array_equal(patch, original_patch):\n",
    "                correct_blocks += 1\n",
    "    \n",
    "    return 100 * correct_blocks / total_blocks\n",
    "\n",
    "original_img = np.array(Image.open(os.path.join(folder_path, \"Original.tif\")))\n",
    "accuracy= accuracy_block_base(original_img, final_img, rows, cols)\n",
    "print(f\"Accuracy: {accuracy:.2f}%\")"
   ]
  },
  {
   "cell_type": "code",
   "execution_count": null,
   "id": "4dc004be",
   "metadata": {},
   "outputs": [],
   "source": [
    "# show final_img - You can make animation for it while solving puzzle. That's fun!\n",
    "plt.imshow(final_img)\n",
    "plt.axis('off') \n",
    "plt.show()"
   ]
  }
 ],
 "metadata": {
  "kernelspec": {
   "display_name": "Python 3",
   "language": "python",
   "name": "python3"
  },
  "language_info": {
   "codemirror_mode": {
    "name": "ipython",
    "version": 3
   },
   "file_extension": ".py",
   "mimetype": "text/x-python",
   "name": "python",
   "nbconvert_exporter": "python",
   "pygments_lexer": "ipython3",
   "version": "3.10.10"
  }
 },
 "nbformat": 4,
 "nbformat_minor": 5
}
