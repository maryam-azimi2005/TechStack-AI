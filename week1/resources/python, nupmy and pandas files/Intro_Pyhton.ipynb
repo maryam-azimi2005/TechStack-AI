{
 "cells": [
  {
   "cell_type": "markdown",
   "metadata": {},
   "source": [
    "# Introduction to Python Programming\n",
    "This Jupyter Notebook is designed to provide an introduction to Python programming. It covers the fundamental concepts and syntax of Python, including variables, data types, control structures, functions, and basic libraries. The notebook aims to equip beginners with the essential skills needed to start writing Python code and understand its core principles."
   ]
  },
  {
   "cell_type": "markdown",
   "metadata": {},
   "source": [
    "## 1. Basics\n",
    "\n",
    "In the Basics section, we cover the following fundamental concepts of Python:\n",
    "\n",
    "1. **Variables and Data Types**\n",
    "2. **Type Checking**\n",
    "3. **Fundamental Structures**\n",
    "4. **Operators**\n",
    "\n",
    "This section provides a solid foundation for understanding how Python handles different types of data and how to work with variables effectively."
   ]
  },
  {
   "cell_type": "code",
   "execution_count": null,
   "metadata": {},
   "outputs": [],
   "source": [
    "# Printing a simple message\n",
    "print(\"Hello, Tech stack!\")"
   ]
  },
  {
   "cell_type": "code",
   "execution_count": null,
   "metadata": {},
   "outputs": [],
   "source": [
    "# Variables are dynamically typed\n",
    "x = 5                   # integer\n",
    "y = 3.14                # float\n",
    "name = \"Alice\"          # string\n",
    "is_student = True       # boolean\n",
    "\n",
    "print(type(x))\n",
    "print(type(y))\n",
    "print(type(name))\n",
    "print(type(is_student))"
   ]
  },
  {
   "cell_type": "code",
   "execution_count": null,
   "metadata": {},
   "outputs": [],
   "source": [
    "# One variable value (works only in notebooks)\n",
    "x\n",
    "y"
   ]
  },
  {
   "cell_type": "code",
   "execution_count": null,
   "metadata": {},
   "outputs": [],
   "source": [
    "# Inputting Values\n",
    "\n",
    "# Inputting a string\n",
    "name = input(\"Enter your name: \")\n",
    "print(f\"Hello, {name}!\")\n",
    "\n",
    "# Inputting an integer\n",
    "age = int(input(\"Enter your age: \"))\n",
    "print(f\"You are {age} years old.\")\n",
    "\n",
    "# Inputting multiple values\n",
    "# Using split() to input multiple values separated by space\n",
    "numbers = input(\"Enter three numbers separated by space: \").split()\n",
    "num1, num2, num3 = map(int, numbers)\n",
    "print(f\"The numbers you entered are: {num1}, {num2}, and {num3}\")"
   ]
  },
  {
   "cell_type": "markdown",
   "metadata": {},
   "source": [
    "### Structures"
   ]
  },
  {
   "cell_type": "code",
   "execution_count": null,
   "metadata": {},
   "outputs": [],
   "source": [
    "# List (similar to arrays but more flexible)\n",
    "e = [1, 2, 3, 4, 5]\n",
    "print(type(e))  \n",
    "print(f\"3rd element of the list: {e[2]}\")\n",
    "print(f\"Last element of the list: {e[-1]}\")\n",
    "\n",
    "# Tuple (immutable sequences)\n",
    "f = (1, 2, 3)\n",
    "print(type(f))  \n",
    "\n",
    "# Dictionary (key-value pairs)\n",
    "g = {\"name\": \"Bob\", \"age\": 25}\n",
    "print(type(g)) \n",
    "print(f\"Value of key name: {g['name']}\")\n",
    "\n",
    "# Set (unordered collection of unique elements)\n",
    "h = {1, 2, 3, 4, 4}\n",
    "print(type(h))  \n",
    "print(h)"
   ]
  },
  {
   "cell_type": "code",
   "execution_count": null,
   "metadata": {},
   "outputs": [],
   "source": [
    "# List Operations\n",
    "\n",
    "# Initializing a list\n",
    "my_list = [1, 2, 3, 4, 5]\n",
    "print(f\"Initial list: {my_list}\")\n",
    "\n",
    "# Append: Adding an element to the end of the list\n",
    "my_list.append(6)\n",
    "print(f\"After append(6): {my_list}\")\n",
    "\n",
    "# Pop: Removing the last element from the list\n",
    "popped_element = my_list.pop()\n",
    "print(f\"After pop(): {my_list}, Popped element: {popped_element}\")\n",
    "\n",
    "# Insert: Adding an element at a specific position\n",
    "my_list.insert(2, 10)\n",
    "print(f\"After insert(2, 10): {my_list}\")\n",
    "\n",
    "# Remove: Removing the first occurrence of a specific element\n",
    "my_list.remove(10)\n",
    "print(f\"After remove(10): {my_list}\")\n",
    "\n",
    "# Sort: Sorting the list in ascending order\n",
    "my_list.sort()\n",
    "print(f\"After sort(): {my_list}\")\n",
    "\n",
    "# Reverse: Reversing the order of the list\n",
    "my_list.reverse()\n",
    "print(f\"After reverse(): {my_list}\")\n",
    "\n",
    "# Extend: Adding multiple elements to the end of the list\n",
    "my_list.extend([7, 8, 9])\n",
    "print(f\"After extend([7, 8, 9]): {my_list}\")\n",
    "\n",
    "# Clear: Removing all elements from the list\n",
    "my_list.clear()\n",
    "print(f\"After clear(): {my_list}\")"
   ]
  },
  {
   "cell_type": "markdown",
   "metadata": {},
   "source": [
    "### Operators"
   ]
  },
  {
   "cell_type": "code",
   "execution_count": null,
   "metadata": {},
   "outputs": [],
   "source": [
    "# Arithmetic Operators\n",
    "print(f\"Addition of 5 and 3: {5 + 3}\")            # Addition\n",
    "print(f\"Subtraction of 5 and 3: {5 - 3}\")         # Subtraction\n",
    "print(f\"Multiplication of 5 and 3: {5 * 3}\")      # Multiplication\n",
    "print(f\"Division of 5 and 3: {5 / 3}\")            # Division\n",
    "print(f\"Floor Division of 5 and 3: {5 // 3}\")     # Floor Division\n",
    "print(f\"Modulus of 5 and 3: {5 % 3}\")             # Modulus\n",
    "print(f\"Exponentiation of 5 and 3: {5 ** 3}\")     # Exponentiation"
   ]
  },
  {
   "cell_type": "code",
   "execution_count": null,
   "metadata": {},
   "outputs": [],
   "source": [
    "# Comparison Operators\n",
    "print(f\"5 == 3: {5 == 3}\")   # Equal to\n",
    "print(f\"5 != 3: {5 != 3}\")   # Not equal to\n",
    "print(f\"5 > 3: {5 > 3}\")     # Greater than\n",
    "print(f\"5 < 3: {5 < 3}\")     # Less than\n",
    "print(f\"5 >= 3: {5 >= 3}\")   # Greater than or equal to\n",
    "print(f\"5 <= 3: {5 <= 3}\")   # Less than or equal to"
   ]
  },
  {
   "cell_type": "code",
   "execution_count": null,
   "metadata": {},
   "outputs": [],
   "source": [
    "# Logical Operators\n",
    "print(f\"True and False: {True and False}\")   # Logical AND\n",
    "print(f\"True or False: {True or False}\")     # Logical OR\n",
    "print(f\"not True: {not True}\")               # Logical NOT"
   ]
  },
  {
   "cell_type": "code",
   "execution_count": null,
   "metadata": {},
   "outputs": [],
   "source": [
    "# Bitwise Operators\n",
    "print(f\"5 & 3: {5 & 3}\")     # Bitwise AND\n",
    "print(f\"5 | 3: {5 | 3}\")     # Bitwise OR\n",
    "print(f\"5 ^ 3: {5 ^ 3}\")     # Bitwise XOR\n",
    "print(f\"~5: {~5}\")           # Bitwise NOT\n",
    "print(f\"5 << 1: {5 << 1}\")   # Bitwise left shift\n",
    "print(f\"5 >> 1: {5 >> 1}\")   # Bitwise right shift"
   ]
  },
  {
   "cell_type": "code",
   "execution_count": null,
   "metadata": {},
   "outputs": [],
   "source": [
    "# Assignment Operators\n",
    "x = 5\n",
    "x += 3  # Equivalent to x = x + 3\n",
    "print(x)  \n",
    "\n",
    "x -= 3  # Equivalent to x = x - 3\n",
    "print(x)  \n",
    "\n",
    "x *= 3  # Equivalent to x = x * 3\n",
    "print(x)  \n",
    "\n",
    "x /= 3  # Equivalent to x = x / 3\n",
    "print(x)  \n",
    "\n",
    "x %= 3  # Equivalent to x = x % 3\n",
    "print(x)  \n",
    "\n",
    "x **= 3  # Equivalent to x = x ** 3\n",
    "print(x)  \n",
    "\n",
    "x //= 3  # Equivalent to x = x // 3\n",
    "print(x)  "
   ]
  },
  {
   "cell_type": "markdown",
   "metadata": {},
   "source": [
    "## 2. Control Structures\n",
    "\n",
    "In the Control Structures section, we cover the following key concepts of Python:\n",
    "\n",
    "1. **Conditional Statements**\n",
    "2. **Loops**\n",
    "\n",
    "This section provides a comprehensive overview of how to control the flow of a Python program using various control structures, enabling efficient and readable code."
   ]
  },
  {
   "cell_type": "markdown",
   "metadata": {},
   "source": [
    "### Conditions"
   ]
  },
  {
   "cell_type": "code",
   "execution_count": null,
   "metadata": {},
   "outputs": [],
   "source": [
    "# if, elif, else\n",
    "x = 10\n",
    "\n",
    "if x > 5:\n",
    "    print(\"x is greater than 5\")\n",
    "elif x == 5:\n",
    "    print(\"x is equal to 5\")\n",
    "else:\n",
    "    print(\"x is less than 5\")"
   ]
  },
  {
   "cell_type": "code",
   "execution_count": null,
   "metadata": {},
   "outputs": [],
   "source": [
    "# One Line Conditions\n",
    "\n",
    "# Simple if-else condition\n",
    "x = 10\n",
    "result = \"Even\" if x % 2 == 0 else \"Odd\"\n",
    "print(f\"x is {x}, which is {result}\")\n",
    "\n",
    "# Nested if-else condition\n",
    "y = 15\n",
    "result = \"Positive\" if y > 0 else \"Negative\" if y < 0 else \"Zero\"\n",
    "print(f\"y is {y}, which is {result}\")"
   ]
  },
  {
   "cell_type": "markdown",
   "metadata": {},
   "source": [
    "### Loops"
   ]
  },
  {
   "cell_type": "code",
   "execution_count": null,
   "metadata": {},
   "outputs": [],
   "source": [
    "# for loop\n",
    "# Iterating over a range of numbers\n",
    "for i in range(5):\n",
    "    print(i)"
   ]
  },
  {
   "cell_type": "code",
   "execution_count": null,
   "metadata": {},
   "outputs": [],
   "source": [
    "# Using range with start, stop, and step\n",
    "for i in range(2, 10, 2):  # range(start, stop, step)\n",
    "    print(i)"
   ]
  },
  {
   "cell_type": "code",
   "execution_count": null,
   "metadata": {},
   "outputs": [],
   "source": [
    "# Iterating over a list\n",
    "my_list = ['apple', 'banana', 'cherry']\n",
    "for fruit in my_list:\n",
    "    print(fruit)"
   ]
  },
  {
   "cell_type": "code",
   "execution_count": null,
   "metadata": {},
   "outputs": [],
   "source": [
    "# One Line Loops\n",
    "\n",
    "# List comprehension to create a list of squares\n",
    "squares = [x**2 for x in range(10)]\n",
    "print(f\"Squares: {squares}\")\n",
    "\n",
    "# List comprehension with a condition to filter even numbers\n",
    "evens = [x for x in range(10) if x % 2 == 0]\n",
    "print(f\"Even numbers: {evens}\")\n",
    "\n",
    "# Dictionary comprehension to create a dictionary of squares\n",
    "squares_dict = {x: x**2 for x in range(10)}\n",
    "print(f\"Squares dictionary: {squares_dict}\")\n",
    "\n",
    "# Set comprehension to create a set of unique remainders when divided by 3\n",
    "remainders = {x % 3 for x in range(10)}\n",
    "print(f\"Remainders when divided by 3: {remainders}\")\n",
    "\n",
    "# Nested list comprehension to create a multiplication table\n",
    "multiplication_table = [[i * j for j in range(1, 6)] for i in range(1, 6)]\n",
    "print(f\"Multiplication table: {multiplication_table}\")"
   ]
  },
  {
   "cell_type": "code",
   "execution_count": null,
   "metadata": {},
   "outputs": [],
   "source": [
    "# while loop\n",
    "# Repeating code while a condition is true\n",
    "count = 0\n",
    "while count < 5:\n",
    "    print(count)\n",
    "    count += 1  # Equivalent to count = count + 1"
   ]
  },
  {
   "cell_type": "code",
   "execution_count": null,
   "metadata": {},
   "outputs": [],
   "source": [
    "# Loop control statements\n",
    "# break: Exit the loop prematurely\n",
    "for i in range(5):\n",
    "    if i == 3:\n",
    "        break\n",
    "    print(i)  "
   ]
  },
  {
   "cell_type": "code",
   "execution_count": null,
   "metadata": {},
   "outputs": [],
   "source": [
    "# continue: Skip the current iteration and continue with the next iteration\n",
    "for i in range(5):\n",
    "    if i == 3:\n",
    "        continue\n",
    "    print(i)"
   ]
  },
  {
   "cell_type": "code",
   "execution_count": null,
   "metadata": {},
   "outputs": [],
   "source": [
    "# pass: Do nothing (used as a placeholder for future code)\n",
    "for i in range(5):\n",
    "    if i == 3:\n",
    "        pass\n",
    "    print(i)"
   ]
  },
  {
   "cell_type": "markdown",
   "metadata": {},
   "source": [
    "## 3. Functions\n",
    "\n",
    "In the Functions section, we cover the following key concepts of Python functions:\n",
    "\n",
    "1. **Defining Functions**\n",
    "2. **Calling Functions**\n",
    "3. **Return Statement**\n",
    "4. **Lambda Functions**\n",
    "\n",
    "This section provides a comprehensive overview of how to define, use, and understand functions in Python, enabling modular and reusable code."
   ]
  },
  {
   "cell_type": "code",
   "execution_count": null,
   "metadata": {},
   "outputs": [],
   "source": [
    "# Defining a Simple Function\n",
    "# A function is defined using the `def` keyword, followed by the function name and parentheses.\n",
    "def greet(name):\n",
    "    \"\"\"\n",
    "    Function to greet a person.\n",
    "    Args:\n",
    "    name (str): The name of the person to greet.\n",
    "\n",
    "    Returns:\n",
    "    str: A greeting message.\n",
    "    \"\"\"\n",
    "    return f\"Hello, {name}!\""
   ]
  },
  {
   "cell_type": "code",
   "execution_count": null,
   "metadata": {},
   "outputs": [],
   "source": [
    "# Calling the function\n",
    "greet(\"Alice\")"
   ]
  },
  {
   "cell_type": "code",
   "execution_count": null,
   "metadata": {},
   "outputs": [],
   "source": [
    "# Returning Multiple Values\n",
    "# Python functions can return multiple values as a tuple.\n",
    "def arithmetic_operations(a, b):\n",
    "    \"\"\"\n",
    "    Function to perform basic arithmetic operations.\n",
    "    Args:\n",
    "    a (int): First number.\n",
    "    b (int): Second number.\n",
    "\n",
    "    Returns:\n",
    "    tuple: A tuple containing the results of addition, subtraction, multiplication, and division.\n",
    "    \"\"\"\n",
    "    addition = a + b\n",
    "    subtraction = a - b\n",
    "    multiplication = a * b\n",
    "    division = a / b if b != 0 else float('inf')  # Handling division by zero\n",
    "    return addition, subtraction, multiplication, division"
   ]
  },
  {
   "cell_type": "code",
   "execution_count": null,
   "metadata": {},
   "outputs": [],
   "source": [
    "# Calling the function and unpacking the results\n",
    "add, sub, mul, div = arithmetic_operations(10, 5)\n",
    "print(f\"Addition: {add}, Subtraction: {sub}, Multiplication: {mul}, Division: {div}\")"
   ]
  },
  {
   "cell_type": "code",
   "execution_count": null,
   "metadata": {},
   "outputs": [],
   "source": [
    "# Using Type Annotations\n",
    "# Type annotations help in specifying the types of inputs and outputs of functions.\n",
    "def concatenate_strings(str1: str, str2: str, repeat: int) -> str:\n",
    "    \"\"\"\n",
    "    Function to concatenate two strings.\n",
    "    Args:\n",
    "    str1 (str): First string.\n",
    "    str2 (str): Second string.\n",
    "    repeat (int): Number of repeatition\n",
    "\n",
    "    Returns:\n",
    "    str: The concatenated string.\n",
    "    \"\"\"\n",
    "    return repeat * (str1 + str2)"
   ]
  },
  {
   "cell_type": "code",
   "execution_count": null,
   "metadata": {},
   "outputs": [],
   "source": [
    "# Calling the function\n",
    "result = concatenate_strings(\"Hello, \", \"World! \", 3)\n",
    "print(result)"
   ]
  },
  {
   "cell_type": "code",
   "execution_count": null,
   "metadata": {},
   "outputs": [],
   "source": [
    "# Lambda Functions\n",
    "\n",
    "# Basic lambda function for addition\n",
    "add = lambda x, y: x + y\n",
    "print(f\"Addition of 5 and 3: {add(5, 3)}\")\n",
    "\n",
    "# Lambda function with no arguments\n",
    "greet = lambda: \"Hello, Tech stack!\"\n",
    "print(greet())"
   ]
  },
  {
   "cell_type": "markdown",
   "metadata": {},
   "source": [
    "## 4. Class and Object\n",
    "\n",
    "In the Class and Object section, we cover the following key concepts of Object-Oriented Programming (OOP) in Python:\n",
    "\n",
    "1. **Defining Classes**:\n",
    "   - Syntax for defining a class using the `class` keyword.\n",
    "2. **Creating Objects**:\n",
    "   - The `__init__` method for initializing object attributes.\n",
    "3. **Inheritance**:\n",
    "   - Creating subclasses that inherit from a parent class.\n",
    "   - Using the `super()` function to call methods from the parent class.\n",
    "\n",
    "This section provides a comprehensive overview of how to use classes and objects in Python, enabling the creation of modular, reusable, and maintainable code."
   ]
  },
  {
   "cell_type": "code",
   "execution_count": null,
   "metadata": {},
   "outputs": [],
   "source": [
    "# Defining a simple class\n",
    "class Person:\n",
    "    # Initializer method (constructor)\n",
    "    def __init__(self, name: str, age: int):\n",
    "        self.name = name\n",
    "        self.age = age\n",
    "    \n",
    "    # Method to display person's info\n",
    "    def display_info(self) -> None:\n",
    "        print(f\"Name: {self.name}, Age: {self.age}\")"
   ]
  },
  {
   "cell_type": "code",
   "execution_count": null,
   "metadata": {},
   "outputs": [],
   "source": [
    "# Creating an instance of the Person class\n",
    "person1 = Person(\"Alice\", 30)\n",
    "\n",
    "# Calling the method\n",
    "person1.display_info()  # Output: Name: Alice, Age: 30"
   ]
  },
  {
   "cell_type": "code",
   "execution_count": null,
   "metadata": {},
   "outputs": [],
   "source": [
    "# Inheritance\n",
    "# Inheritance allows a class to inherit attributes and methods from another class.\n",
    "# Defining a subclass\n",
    "class Student(Person):\n",
    "    def __init__(self, name: str, age: int, student_id: str):\n",
    "        super().__init__(name, age)  # Call the initializer of the parent class\n",
    "        self.student_id = student_id\n",
    "    \n",
    "    # Method to display student's info\n",
    "    def display_info(self) -> None:\n",
    "        super().display_info()  # Call the method from the parent class\n",
    "        print(f\"Student ID: {self.student_id}\")"
   ]
  },
  {
   "cell_type": "code",
   "execution_count": null,
   "metadata": {},
   "outputs": [],
   "source": [
    "# Creating an instance of the Student class\n",
    "student = Student(\"Bob\", 20, \"S12345\")\n",
    "\n",
    "# Calling the method\n",
    "student.display_info()"
   ]
  },
  {
   "cell_type": "markdown",
   "metadata": {},
   "source": [
    "## 5. File Handling and Exceptions\n",
    "\n",
    "In this section, we cover the following key concepts:\n",
    "\n",
    "1. **File Handling**:\n",
    "   - Opening and closing files using the `open()` and `close()` methods.\n",
    "   - Different modes for file operations: read (`'r'`), write (`'w'`), append (`'a'`), and binary modes (`'rb'`, `'wb'`).\n",
    "   - Using the `with` statement for automatic file closure.\n",
    "\n",
    "2. **Exceptions**:\n",
    "   - Understanding exceptions and error handling.\n",
    "   - Using `try`, `except`, `else`, and `finally` blocks to handle exceptions.\n",
    "   - Raising exceptions using the `raise` statement.\n",
    "   - Creating custom exception classes.\n",
    "\n",
    "This section provides a comprehensive overview of how to handle files and manage errors and exceptions in Python, enabling robust and maintainable code."
   ]
  },
  {
   "cell_type": "markdown",
   "metadata": {},
   "source": [
    "### File handling"
   ]
  },
  {
   "cell_type": "code",
   "execution_count": null,
   "metadata": {},
   "outputs": [],
   "source": [
    "# Writing to a file\n",
    "with open('example.txt', 'w') as file:\n",
    "    file.write(\"Hello, World!\\n\")\n",
    "    file.write(\"This is a file handling example.\\n\")\n",
    "print(\"Data written to 'example.txt'.\")"
   ]
  },
  {
   "cell_type": "code",
   "execution_count": null,
   "metadata": {},
   "outputs": [],
   "source": [
    "# Reading from a file\n",
    "with open('example.txt', 'r') as file:\n",
    "    content = file.read()\n",
    "print(\"Content of 'example.txt':\")\n",
    "print(content)"
   ]
  },
  {
   "cell_type": "code",
   "execution_count": null,
   "metadata": {},
   "outputs": [],
   "source": [
    "# Appending to a file\n",
    "with open('example.txt', 'a') as file:\n",
    "    file.write(\"Appending a new line to the file.\\n\")\n",
    "print(\"New line appended to 'example.txt'.\")"
   ]
  },
  {
   "cell_type": "code",
   "execution_count": null,
   "metadata": {},
   "outputs": [],
   "source": [
    "# Reading line by line\n",
    "with open('example.txt', 'r') as file:\n",
    "    lines = file.readlines()\n",
    "print(\"Reading 'example.txt' line by line:\")\n",
    "for line in lines:\n",
    "    print(line.strip())"
   ]
  },
  {
   "cell_type": "code",
   "execution_count": null,
   "metadata": {},
   "outputs": [],
   "source": [
    "# Using 'with' statement for automatic file closure\n",
    "with open('example.txt', 'r') as file:\n",
    "    first_line = file.readline().strip()\n",
    "print(f\"First line of 'example.txt': {first_line}\")"
   ]
  },
  {
   "cell_type": "markdown",
   "metadata": {},
   "source": [
    "### Exceptions\n",
    "- The `try` block contains the code that might raise an exception. If an exception occurs, the rest of the `try` block is skipped, and the control is transferred to the `except` block.\n",
    "\n",
    "- The `except` block contains the code that runs if an exception occurs in the `try` block. You can specify the type of exception to catch specific errors.\n",
    "\n",
    "- The `else` block contains the code that runs if no exceptions occur in the `try` block. It is useful for code that should only run if the `try` block succeeds.\n",
    "\n",
    "- The `finally` block contains the code that runs no matter what, whether an exception occurs or not. It is typically used for cleanup actions, such as closing files or releasing resources.\n"
   ]
  },
  {
   "cell_type": "code",
   "execution_count": null,
   "metadata": {},
   "outputs": [],
   "source": [
    "# Basic try-except block\n",
    "try:\n",
    "    result = 10 / 0\n",
    "except ZeroDivisionError:\n",
    "    print(\"Error: Division by zero is not allowed.\")"
   ]
  },
  {
   "cell_type": "code",
   "execution_count": null,
   "metadata": {},
   "outputs": [],
   "source": [
    "# Handling multiple exceptions\n",
    "try:\n",
    "    num = int(input(\"Enter a number: \"))\n",
    "    result = 10 / num\n",
    "except ValueError:\n",
    "    print(\"Error: Invalid input. Please enter a valid number.\")\n",
    "except ZeroDivisionError:\n",
    "    print(\"Error: Division by zero is not allowed.\")"
   ]
  },
  {
   "cell_type": "code",
   "execution_count": null,
   "metadata": {},
   "outputs": [],
   "source": [
    "# Using else and finally blocks\n",
    "try:\n",
    "    num = int(input(\"Enter a number: \"))\n",
    "    result = 10 / num\n",
    "except ValueError:\n",
    "    print(\"Error: Invalid input. Please enter a valid number.\")\n",
    "except ZeroDivisionError:\n",
    "    print(\"Error: Division by zero is not allowed.\")\n",
    "else:\n",
    "    print(f\"Result: {result}\")\n",
    "finally:\n",
    "    print(\"Execution completed.\")"
   ]
  },
  {
   "cell_type": "code",
   "execution_count": null,
   "metadata": {},
   "outputs": [],
   "source": [
    "def check_even(number):\n",
    "    if number % 2 != 0:\n",
    "        raise Exception(\"Error: Odd number is not allowed.\")\n",
    "    return number\n",
    "\n",
    "try:\n",
    "    num = check_even(3)\n",
    "except CustomError as e:\n",
    "    print(e)"
   ]
  },
  {
   "cell_type": "code",
   "execution_count": null,
   "metadata": {},
   "outputs": [],
   "source": []
  }
 ],
 "metadata": {
  "kernelspec": {
   "display_name": "Python 3",
   "language": "python",
   "name": "python3"
  },
  "language_info": {
   "codemirror_mode": {
    "name": "ipython",
    "version": 3
   },
   "file_extension": ".py",
   "mimetype": "text/x-python",
   "name": "python",
   "nbconvert_exporter": "python",
   "pygments_lexer": "ipython3",
   "version": "3.10.11"
  }
 },
 "nbformat": 4,
 "nbformat_minor": 2
}
