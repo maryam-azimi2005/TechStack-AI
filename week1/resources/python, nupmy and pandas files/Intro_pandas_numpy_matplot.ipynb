{
 "cells": [
  {
   "cell_type": "markdown",
   "metadata": {},
   "source": [
    "# Introduction to Pandas, Numpy and Matplot\n",
    "This notebook introduces the basics of Pandas, Numpy, and Matplotlib, essential Python libraries for data manipulation, analysis, and visualization. Pandas provides structures like Series and DataFrame for handling structured data, Numpy offers powerful N-dimensional arrays and mathematical functions, and Matplotlib enables creating a wide range of static, animated, and interactive plots."
   ]
  },
  {
   "cell_type": "code",
   "execution_count": null,
   "metadata": {},
   "outputs": [],
   "source": [
    "# Importing necessary libraries\n",
    "import pandas as pd\n",
    "import numpy as np\n",
    "import matplotlib.pyplot as plt"
   ]
  },
  {
   "cell_type": "markdown",
   "metadata": {},
   "source": [
    "## Pandas"
   ]
  },
  {
   "cell_type": "code",
   "execution_count": null,
   "metadata": {},
   "outputs": [],
   "source": [
    "# Importing data\n",
    "data = pd.read_csv('BodyPerformance.csv')\n",
    "df = data.copy()"
   ]
  },
  {
   "cell_type": "code",
   "execution_count": null,
   "metadata": {},
   "outputs": [],
   "source": [
    "print(\"First few rows of the DataFrame:\")\n",
    "df.head()"
   ]
  },
  {
   "cell_type": "code",
   "execution_count": null,
   "metadata": {},
   "outputs": [],
   "source": [
    "print(\"Last few rows of the DataFrame:\")\n",
    "df.tail()"
   ]
  },
  {
   "cell_type": "code",
   "execution_count": null,
   "metadata": {},
   "outputs": [],
   "source": [
    "print(f\"Dimension of the DataFrame: {df.shape}\")"
   ]
  },
  {
   "cell_type": "code",
   "execution_count": null,
   "metadata": {},
   "outputs": [],
   "source": [
    "print(f\"Data types of the columns: {df.dtypes}\")"
   ]
  },
  {
   "cell_type": "code",
   "execution_count": null,
   "metadata": {},
   "outputs": [],
   "source": [
    "print(f\"Index of the DataFrame: {df.index}\")"
   ]
  },
  {
   "cell_type": "code",
   "execution_count": null,
   "metadata": {},
   "outputs": [],
   "source": [
    "# Head of the age column\n",
    "df['age'].head()"
   ]
  },
  {
   "cell_type": "code",
   "execution_count": null,
   "metadata": {},
   "outputs": [],
   "source": [
    "# Minimum age\n",
    "df['age'].min()"
   ]
  },
  {
   "cell_type": "code",
   "execution_count": null,
   "metadata": {},
   "outputs": [],
   "source": [
    "# Maximum age\n",
    "df['age'].max()"
   ]
  },
  {
   "cell_type": "code",
   "execution_count": null,
   "metadata": {},
   "outputs": [],
   "source": [
    "# Mean age\n",
    "df['age'].mean()"
   ]
  },
  {
   "cell_type": "markdown",
   "metadata": {},
   "source": [
    "Correlation is a statistical measure that describes the extent to which two variables move in relation to each other. It is quantified by the correlation coefficient, which ranges from -1 to 1. A value of 1 indicates a perfect positive correlation, -1 indicates a perfect negative correlation, and 0 indicates no linear relationship. It's important to note that correlation does not imply causation, and it only measures linear relationships."
   ]
  },
  {
   "cell_type": "code",
   "execution_count": null,
   "metadata": {},
   "outputs": [],
   "source": [
    "df.corr()"
   ]
  },
  {
   "cell_type": "markdown",
   "metadata": {},
   "source": [
    "The `.describe()` method in Pandas provides a summary of statistical measures for numerical columns in a DataFrame. It includes metrics such as count, mean, standard deviation, minimum, 25th percentile, median (50th percentile), 75th percentile, and maximum. This method is useful for quickly understanding the distribution and central tendency of the data."
   ]
  },
  {
   "cell_type": "code",
   "execution_count": null,
   "metadata": {},
   "outputs": [],
   "source": [
    "df.describe()"
   ]
  },
  {
   "cell_type": "markdown",
   "metadata": {},
   "source": [
    "`NaN` (Not a Number) represents missing or undefined values in a DataFrame. Handling `NaN` values is crucial because they can lead to inaccurate analysis and affect the performance of statistical methods and machine learning algorithms. Common strategies to address `NaN` values include removing them or filling them with appropriate values like mean, median, or mode to ensure data integrity and reliability."
   ]
  },
  {
   "cell_type": "code",
   "execution_count": null,
   "metadata": {},
   "outputs": [],
   "source": [
    "df.isnull().sum()"
   ]
  },
  {
   "cell_type": "code",
   "execution_count": null,
   "metadata": {},
   "outputs": [],
   "source": [
    "# Filling missing values in the 'age' column with the mean value\n",
    "df['age'].fillna(df['age'].mean(), inplace=True)\n",
    "\n",
    "# Filling missing values in the 'age' column with the mode value\n",
    "# Note: This line will overwrite the previous fill operation\n",
    "df['age'].fillna(df['age'].mode()[0], inplace=True)\n",
    "\n",
    "# Checking the number of remaining missing values in the 'age' column\n",
    "missing_values_count = df['age'].isnull().sum()\n",
    "print(f\"Number of missing values in 'age' column: {missing_values_count}\")"
   ]
  },
  {
   "cell_type": "markdown",
   "metadata": {},
   "source": [
    "The `.map()` method in Pandas is used to transform values in a Series based on a mapping relationship. It can map values using a dictionary, apply a function to each element, or map values from another Series. This method is useful for data transformation and cleaning, enabling efficient and readable code."
   ]
  },
  {
   "cell_type": "code",
   "execution_count": null,
   "metadata": {},
   "outputs": [],
   "source": [
    "df['gender']=df['gender'].map({\"M\":'0',\"F\":\"1\"})\n",
    "df.tail()"
   ]
  },
  {
   "cell_type": "markdown",
   "metadata": {},
   "source": [
    "The `.apply()` method in Pandas is used to apply a function along an axis of the DataFrame (either rows or columns). It is versatile and can be used for complex data transformations and aggregations. This method is particularly useful for applying custom functions to each element, row, or column, enabling flexible and powerful data manipulation."
   ]
  },
  {
   "cell_type": "code",
   "execution_count": null,
   "metadata": {},
   "outputs": [],
   "source": [
    "df['height_cm'] = df['height_cm'].apply(lambda x: x*0.01)\n",
    "df.head()"
   ]
  },
  {
   "cell_type": "code",
   "execution_count": null,
   "metadata": {},
   "outputs": [],
   "source": [
    "# Adding a new column 'BMI' to the DataFrame\n",
    "df['BMI'] = df['weight_kg'] / (df['height_cm'] ** 2)\n",
    "df.head()"
   ]
  },
  {
   "cell_type": "code",
   "execution_count": null,
   "metadata": {},
   "outputs": [],
   "source": [
    "# Dropping the 'class' column from the DataFrame\n",
    "# The 'axis=1' parameter specifies that we are dropping a column (not a row)\n",
    "# The 'inplace=True' parameter ensures that the change is made directly to the original DataFrame\n",
    "df.drop(['class'], axis=1, inplace=True)\n",
    "df.head()"
   ]
  },
  {
   "cell_type": "code",
   "execution_count": null,
   "metadata": {},
   "outputs": [],
   "source": [
    "# Renaming the 'age' column to 'Age'\n",
    "# The 'inplace=True' parameter ensures that the change is made directly to the original DataFrame\n",
    "df.rename(columns={'age':'Age'},inplace=True)\n",
    "df.head()"
   ]
  },
  {
   "cell_type": "code",
   "execution_count": null,
   "metadata": {},
   "outputs": [],
   "source": [
    "# Filtering the DataFrame to include only rows where the 'Age' column is equal to 25\n",
    "# This creates a new DataFrame 'df_age_25' containing only the rows with Age 25\n",
    "df_age_25 = df[df['Age']==25]\n",
    "df_age_25.head()"
   ]
  },
  {
   "cell_type": "code",
   "execution_count": null,
   "metadata": {},
   "outputs": [],
   "source": [
    "# Filtering the DataFrame to include only rows where the 'Age' column is equal to 25\n",
    "# and the 'gender' column is equal to '1' (assuming '1' represents female)\n",
    "# This creates a new DataFrame 'df_female_or_age_25' containing only the rows that meet both conditions\n",
    "df_female_and_age_25 = df[(df['Age']==25) & (df['gender']=='1')]\n",
    "df_female_and_age_25.head()"
   ]
  },
  {
   "cell_type": "markdown",
   "metadata": {},
   "source": [
    "The `.loc[]` method in Pandas is used for label-based indexing and selection. It allows you to select rows and columns by their labels or a boolean array. This method is versatile and can be used to slice data, filter rows, and select specific columns. It is particularly useful for accessing a group of rows and columns by labels or conditional statements.\n",
    "\n",
    "##### Options for Using `.loc[]`\n",
    "\n",
    "- Selecting Rows and Columns by Labels\n",
    "You can select specific rows and columns by their labels, which is useful for accessing data based on column names and row indices.\n",
    "\n",
    "- Selecting All Rows or Columns\n",
    "Using `:` allows you to select all rows or all columns. This is helpful when you want to apply operations to entire rows or columns without specifying each one individually.\n",
    "\n",
    "- Conditional Selection\n",
    "You can filter rows based on conditions. For example, you can select rows where a column's value meets a certain condition, such as being greater than a specific number.\n",
    "\n",
    "- Selecting with Boolean Arrays\n",
    "You can pass a boolean array to `.loc[]` to select rows that meet certain criteria. This is useful for more complex filtering based on multiple conditions.\n",
    "\n",
    "The `.loc[]` method is a powerful tool for label-based indexing and selection in Pandas, supporting a wide range of data manipulation and analysis tasks."
   ]
  },
  {
   "cell_type": "code",
   "execution_count": null,
   "metadata": {},
   "outputs": [],
   "source": [
    "# Using .loc[] to select rows from index 0 to 100 and columns from 'Age' to 'weight_kg'\n",
    "# This creates a new DataFrame 'subset_df' containing the specified rows and columns\n",
    "subset_df = df.loc[0:100, 'Age':'weight_kg']\n",
    "subset_df.head()"
   ]
  },
  {
   "cell_type": "markdown",
   "metadata": {},
   "source": [
    "The `.iloc[]` method in Pandas is used for integer-based indexing and selection. It allows you to access rows and columns by their integer positions, making it useful for numerical indexing.\n",
    "\n",
    "##### Options for Using `.iloc[]`\n",
    "\n",
    "- Selecting Rows and Columns by Integer Positions\n",
    "You can select specific rows and columns by their integer positions, which is useful for accessing data based on numerical indices.\n",
    "\n",
    "- Selecting All Rows or Columns\n",
    "Using `:` allows you to select all rows or all columns. This is helpful when you want to apply operations to entire rows or columns without specifying each one individually.\n",
    "\n",
    "- Slicing\n",
    "You can use slicing to select a range of rows or columns. For example, you can select rows from index 0 to 10 and columns from index 1 to 3.\n",
    "\n",
    "- Conditional Selection\n",
    "While `.iloc[]` itself does not support boolean conditions directly, you can use it in combination with other methods to achieve conditional selection based on integer positions.\n",
    "\n",
    "The `.iloc[]` method is a powerful tool for integer-based indexing and selection in Pandas, supporting a wide range of data manipulation and analysis tasks."
   ]
  },
  {
   "cell_type": "code",
   "execution_count": null,
   "metadata": {},
   "outputs": [],
   "source": [
    "# Using .iloc[] to select rows from index 0 to 100 and columns from index 0 to 5\n",
    "# This creates a new DataFrame 'subset_df' containing the specified rows and columns\n",
    "subset_df = df.iloc[0:100, 0:5]\n",
    "subset_df.head()"
   ]
  },
  {
   "cell_type": "markdown",
   "metadata": {},
   "source": [
    "## Numpy"
   ]
  },
  {
   "cell_type": "code",
   "execution_count": null,
   "metadata": {},
   "outputs": [],
   "source": [
    "# Creating a NumPy array with the specified elements\n",
    "# The array contains floating-point and integer values\n",
    "array_example = np.array([3.2, 4, 6, 5])\n",
    "array_example"
   ]
  },
  {
   "cell_type": "code",
   "execution_count": null,
   "metadata": {},
   "outputs": [],
   "source": [
    "# Creating a NumPy array with integer elements\n",
    "# The 'dtype=\"str\"' parameter specifies that the elements should be stored as strings\n",
    "string_array = np.array([1, 2, 3, 4], dtype=\"str\")\n",
    "string_array"
   ]
  },
  {
   "cell_type": "code",
   "execution_count": null,
   "metadata": {},
   "outputs": [],
   "source": [
    "float_array = np.array([3,6,2,3], dtype=\"float32\")\n",
    "float_array"
   ]
  },
  {
   "cell_type": "code",
   "execution_count": null,
   "metadata": {},
   "outputs": [],
   "source": [
    "array_example = np.array([range(i, i+3) for i in [2, 4, 6]])\n",
    "array_example"
   ]
  },
  {
   "cell_type": "code",
   "execution_count": null,
   "metadata": {},
   "outputs": [],
   "source": [
    "np.zeros(10, dtype=\"int\")"
   ]
  },
  {
   "cell_type": "code",
   "execution_count": null,
   "metadata": {},
   "outputs": [],
   "source": [
    "np.zeros((5,6), dtype=\"float\")"
   ]
  },
  {
   "cell_type": "code",
   "execution_count": null,
   "metadata": {},
   "outputs": [],
   "source": [
    "np.ones((3,5), dtype=\"float\")"
   ]
  },
  {
   "cell_type": "code",
   "execution_count": null,
   "metadata": {},
   "outputs": [],
   "source": [
    "np.full((3,5), np.pi)"
   ]
  },
  {
   "cell_type": "code",
   "execution_count": null,
   "metadata": {},
   "outputs": [],
   "source": [
    "np.arange(0, 20, 2)"
   ]
  },
  {
   "cell_type": "code",
   "execution_count": null,
   "metadata": {},
   "outputs": [],
   "source": [
    "np.linspace(0, 1, 5)"
   ]
  },
  {
   "cell_type": "markdown",
   "metadata": {},
   "source": [
    "Setting a seed in random number generation ensures reproducibility of results. When you set a seed, the sequence of random numbers generated will be the same each time the code is run. This is particularly useful for debugging and sharing code, as it allows others to replicate the exact sequence of random numbers. In NumPy, you can set the seed using `np.random.seed(value)`."
   ]
  },
  {
   "cell_type": "code",
   "execution_count": null,
   "metadata": {},
   "outputs": [],
   "source": [
    "# Setting the seed for NumPy's random number generator to ensure reproducibility\n",
    "# This means that the random numbers generated will be the same each time the code is run\n",
    "np.random.seed(0)"
   ]
  },
  {
   "cell_type": "code",
   "execution_count": null,
   "metadata": {},
   "outputs": [],
   "source": [
    "# Generating a 3x3 array of random floating-point numbers between 0 and 1\n",
    "# The np.random.random() function creates an array of the given shape and populates it with random samples from a uniform distribution over [0, 1)\n",
    "np.random.random((3, 3))"
   ]
  },
  {
   "cell_type": "code",
   "execution_count": null,
   "metadata": {},
   "outputs": [],
   "source": [
    "# Generating an array of random numbers from a normal (Gaussian) distribution\n",
    "# The np.random.normal() function takes three parameters:\n",
    "# - The mean (0 in this case)\n",
    "# - The standard deviation (1 in this case)\n",
    "# - The shape of the output array ((3, 3) in this case)\n",
    "np.random.normal(0, 1, (3, 3))"
   ]
  },
  {
   "cell_type": "code",
   "execution_count": null,
   "metadata": {},
   "outputs": [],
   "source": [
    "# Generating an array of random integers between 0 and 9 (inclusive)\n",
    "# The np.random.randint() function takes three parameters:\n",
    "# - The lower bound of the range (0 in this case, inclusive)\n",
    "# - The upper bound of the range (10 in this case, exclusive)\n",
    "# - The shape of the output array ((3, 3) in this case)\n",
    "x = np.random.randint(0, 10, size=(2, 3, 4))"
   ]
  },
  {
   "cell_type": "code",
   "execution_count": null,
   "metadata": {},
   "outputs": [],
   "source": [
    "# The number of dimensions of the array\n",
    "print(f\"x ndim: {x.ndim}\")\n",
    "\n",
    "# The shape of the array (dimensions)\n",
    "print(f\"x shape: {x.shape}\")\n",
    "\n",
    "# The total number of elements in the array\n",
    "print(f\"x size: {x.size}\")\n",
    "\n",
    "# The data type of the elements in the array\n",
    "print(f\"Data type: {x.dtype}\")\n",
    "\n",
    "# The size (in bytes) of each element in the array\n",
    "print(f\"Item size: {x.itemsize} bytes\")\n",
    "\n",
    "# The total number of bytes consumed by the elements of the array\n",
    "print(f\"nbytes: {x.nbytes} bytes\")"
   ]
  },
  {
   "cell_type": "code",
   "execution_count": null,
   "metadata": {},
   "outputs": [],
   "source": [
    "x"
   ]
  },
  {
   "cell_type": "code",
   "execution_count": null,
   "metadata": {},
   "outputs": [],
   "source": [
    "x[0,0,0]"
   ]
  },
  {
   "cell_type": "code",
   "execution_count": null,
   "metadata": {},
   "outputs": [],
   "source": [
    "x[-2,-2,-2]"
   ]
  },
  {
   "cell_type": "code",
   "execution_count": null,
   "metadata": {},
   "outputs": [],
   "source": [
    "x[0,0,0] = 12\n",
    "x"
   ]
  },
  {
   "cell_type": "markdown",
   "metadata": {},
   "source": [
    "NumPy slicing allows you to extract a subset of elements from an array. Slicing is performed using the colon (`:`) operator, and it can be applied to both one-dimensional and multi-dimensional arrays."
   ]
  },
  {
   "cell_type": "code",
   "execution_count": null,
   "metadata": {},
   "outputs": [],
   "source": [
    "x = np.arange(36).reshape(3, 3, 4)"
   ]
  },
  {
   "cell_type": "code",
   "execution_count": null,
   "metadata": {},
   "outputs": [],
   "source": [
    "# Slicing the 3D array 'x' to extract a subset\n",
    "x[:, :2, 1:3]"
   ]
  },
  {
   "cell_type": "code",
   "execution_count": null,
   "metadata": {},
   "outputs": [],
   "source": [
    "# Slicing the 3D array 'x' using start, stop, and step parameters, similar to range()\n",
    "# The slicing parameters are:\n",
    "# - First dimension: start at index 0, stop at index 3, step by 2 (every second element)\n",
    "# - Second dimension: start at index 0, stop at index 3, step by 1 (every element)\n",
    "# - Third dimension: start at index 0, stop at index 4, step by 2 (every second element)\n",
    "x[0:3:, 0:3:1, 0:4:2]"
   ]
  },
  {
   "cell_type": "markdown",
   "metadata": {},
   "source": [
    "The `reshape` function in NumPy is used to change the shape of an existing array without altering its data. This is particularly useful for organizing data into different dimensions for various computational tasks."
   ]
  },
  {
   "cell_type": "code",
   "execution_count": null,
   "metadata": {},
   "outputs": [],
   "source": [
    "x = np.arange(1, 13)\n",
    "print(f\"Shape of x: {x.shape}\")\n",
    "x"
   ]
  },
  {
   "cell_type": "code",
   "execution_count": null,
   "metadata": {},
   "outputs": [],
   "source": [
    "# Reshaping the array 'x' to a new shape (3, 4)\n",
    "# The reshape() function changes the shape of the array without altering its data\n",
    "# The new shape must be compatible with the original number of elements in 'x'\n",
    "x = x.reshape((3, 4))\n",
    "x"
   ]
  },
  {
   "cell_type": "code",
   "execution_count": null,
   "metadata": {},
   "outputs": [],
   "source": [
    "# Reshaping the array 'x' to a new shape (1, -1)\n",
    "# The reshape() function changes the shape of the array without altering its data\n",
    "# The new shape (1, -1) means:\n",
    "# - 1 row\n",
    "# - The number of columns is automatically calculated based on the total number of elements\n",
    "x = x.reshape(1, -1)\n",
    "print(f\"Shape of x after unrolling: {x.shape}\")\n",
    "x"
   ]
  },
  {
   "cell_type": "code",
   "execution_count": null,
   "metadata": {},
   "outputs": [],
   "source": [
    "# Creating two 1D NumPy arrays 'x' and 'y'\n",
    "x = np.array([1, 2, 3])\n",
    "y = np.array([3, 2, 1])\n",
    "\n",
    "# Concatenating the two arrays 'x' and 'y' along the first axis (default)\n",
    "# The np.concatenate() function combines the arrays into a single array\n",
    "np.concatenate((x, y))"
   ]
  },
  {
   "cell_type": "code",
   "execution_count": null,
   "metadata": {},
   "outputs": [],
   "source": [
    "# Creating a 2D NumPy array 'x' with shape (2, 3)\n",
    "x = np.array([[1, 2, 3],\n",
    "              [4, 5, 6]])\n",
    "\n",
    "# Concatenating the array 'x' with itself along the first axis (default)\n",
    "# The np.concatenate() function combines the arrays into a single array\n",
    "# Since no axis is specified, it defaults to axis 0 (rows)\n",
    "np.concatenate((x, x))"
   ]
  },
  {
   "cell_type": "code",
   "execution_count": null,
   "metadata": {},
   "outputs": [],
   "source": [
    "# Concatenating the 2D array 'x' with itself along the second axis (columns)\n",
    "# The np.concatenate() function combines the arrays into a single array\n",
    "# The parameter axis=1 specifies that the concatenation should be done along the columns\n",
    "np.concatenate((x, x), axis=1)"
   ]
  },
  {
   "cell_type": "code",
   "execution_count": null,
   "metadata": {},
   "outputs": [],
   "source": [
    "# Creating a 1D NumPy array 'x' with specified elements\n",
    "x = np.array([1, 2, 3, 99, 99, 3, 2, 1])\n",
    "\n",
    "# Splitting the array 'x' into four sub-arrays at the specified indices [3, 4, 5]\n",
    "# The np.split() function splits the array into sub-arrays at the given indices\n",
    "x1, x2, x3, x4 = np.split(x, [3, 4, 5])\n",
    "\n",
    "# Displaying the resulting sub-arrays\n",
    "print(x1, x2, x3, x4)"
   ]
  },
  {
   "cell_type": "markdown",
   "metadata": {},
   "source": [
    "NumPy provides a wide range of arithmetic operations that can be performed on arrays. These operations are element-wise, meaning they are applied to each element of the array individually. This makes NumPy highly efficient for numerical computations."
   ]
  },
  {
   "cell_type": "code",
   "execution_count": null,
   "metadata": {},
   "outputs": [],
   "source": [
    "# Creating a 1D NumPy array 'x' with specified elements\n",
    "x = np.array([1, 5, 8, 9])\n",
    "\n",
    "# Displaying the original array\n",
    "print(\"x =\", x)\n",
    "\n",
    "# Performing arithmetic operations on the array 'x'\n",
    "print(\"x + 5 =\", x + 5)  # Adding 5 to each element\n",
    "print(\"x - 5 =\", x - 5)  # Subtracting 5 from each element\n",
    "print(\"x * 2 =\", x * 2)  # Multiplying each element by 2\n",
    "print(\"x / 2 =\", x / 2)  # Dividing each element by 2\n",
    "print(\"x // 2 =\", x // 2)  # Floor division of each element by 2\n",
    "print(\"-x =\", -x)  # Negating each element\n",
    "print(\"x ** 2 =\", x ** 2)  # Squaring each element\n",
    "print(\"x % 2 =\", x % 2)  # Modulus operation on each element\n",
    "\n",
    "# Performing trigonometric operations on the array 'x'\n",
    "print(\"sin(x) =\", np.sin(x))  # Sine of each element\n",
    "print(\"cos(x) =\", np.cos(x))  # Cosine of each element\n",
    "print(\"tan(x) =\", np.tan(x))  # Tangent of each element\n",
    "\n",
    "# Performing logarithmic operations on the array 'x'\n",
    "print(\"ln(x) =\", np.log(x))  # Natural logarithm of each element\n",
    "print(\"log2(x) =\", np.log2(x))  # Base-2 logarithm of each element\n",
    "print(\"log10(x) =\", np.log10(x))  # Base-10 logarithm of each element\n",
    "\n",
    "# Performing comparison operations on the array 'x'\n",
    "print(\"x < 3 =\", x < 3)  # Less than comparison\n",
    "print(\"x > 3 =\", x > 3)  # Greater than comparison\n",
    "print(\"x <= 3 =\", x <= 3)  # Less than or equal to comparison\n",
    "print(\"x >= 3 =\", x >= 3)  # Greater than or equal to comparison\n",
    "print(\"x != 3 =\", x != 3)  # Not equal to comparison\n",
    "print(\"x == 3 =\", x == 3)  # Equal to comparison\n",
    "\n",
    "# Performing a combined operation on the array 'x'\n",
    "print(\"(2 * x) == (2 ** x) =\", (2 * x) == (2 ** x))  # Comparing 2*x with 2 raised to the power of x"
   ]
  },
  {
   "cell_type": "code",
   "execution_count": null,
   "metadata": {},
   "outputs": [],
   "source": [
    "-(0.5*x+1) ** 2"
   ]
  },
  {
   "cell_type": "code",
   "execution_count": null,
   "metadata": {},
   "outputs": [],
   "source": [
    "# Creating a 1D NumPy array 'x' with some NaN values\n",
    "x = np.array([1, 2, np.nan, 4, 5])\n",
    "\n",
    "# Calculating the sum of the array 'x'\n",
    "# np.sum() returns NaN if there are any NaN values in the array\n",
    "print(\"np.sum       =\", np.sum(x))\n",
    "\n",
    "# Calculating the sum of the array 'x' while ignoring NaN values\n",
    "# np.nansum() treats NaN values as zero\n",
    "print(\"np.nansum    =\", np.nansum(x))\n",
    "\n",
    "# Calculating the mean of the array 'x'\n",
    "# np.mean() returns NaN if there are any NaN values in the array\n",
    "print(\"np.mean      =\", np.mean(x))\n",
    "\n",
    "# Calculating the mean of the array 'x' while ignoring NaN values\n",
    "# np.nanmean() ignores NaN values in the calculation\n",
    "print(\"np.nanmean   =\", np.nanmean(x))\n",
    "\n",
    "# Calculating the standard deviation of the array 'x'\n",
    "# np.std() returns NaN if there are any NaN values in the array\n",
    "print(\"np.std       =\", np.std(x))\n",
    "\n",
    "# Calculating the standard deviation of the array 'x' while ignoring NaN values\n",
    "# np.nanstd() ignores NaN values in the calculation\n",
    "print(\"np.nanstd    =\", np.nanstd(x))\n",
    "\n",
    "# Finding the index of the minimum value in the array 'x'\n",
    "# np.argmin() returns the index of the first occurrence of NaN if there are any NaN values\n",
    "print(\"np.argmin    =\", np.argmin(x))\n",
    "\n",
    "# Finding the index of the minimum value in the array 'x' while ignoring NaN values\n",
    "# np.nanargmin() ignores NaN values in the calculation\n",
    "print(\"np.nanargmin =\", np.nanargmin(x))"
   ]
  },
  {
   "cell_type": "markdown",
   "metadata": {},
   "source": [
    "NumPy provides powerful and efficient functions for sorting arrays. Sorting is a common operation in data analysis and scientific computing, and NumPy's sorting functions are optimized for performance."
   ]
  },
  {
   "cell_type": "code",
   "execution_count": null,
   "metadata": {},
   "outputs": [],
   "source": [
    "# Basic Sorting with np.sort()\n",
    "arr = np.array([3, 1, 2])\n",
    "np.sort(arr)"
   ]
  },
  {
   "cell_type": "code",
   "execution_count": null,
   "metadata": {},
   "outputs": [],
   "source": [
    "# Sorting Indices with np.argsort()\n",
    "arr = np.array([3, 1, 2])\n",
    "np.argsort(arr)"
   ]
  },
  {
   "cell_type": "code",
   "execution_count": null,
   "metadata": {},
   "outputs": [],
   "source": [
    "# Sorting a 3D Array\n",
    "arr = np.array([[[3, 2, 1], [6, 5, 4]], [[9, 8, 7], [12, 11, 10]]])\n",
    "np.sort(arr, axis=2)"
   ]
  },
  {
   "cell_type": "markdown",
   "metadata": {},
   "source": [
    "Broadcasting is a powerful feature in NumPy that allows arithmetic operations on arrays of different shapes. It enables NumPy to perform element-wise operations without explicitly replicating the smaller array, leading to more efficient and readable code.\n",
    "\n",
    "#### Rules of Broadcasting\n",
    "#### Rule 1: Dimension Padding\n",
    "- If the two arrays differ in their number of dimensions, the shape of the one with fewer dimensions is padded with ones on its leading (left) side. This ensures that both arrays have the same number of dimensions, facilitating element-wise operations.\n",
    "\n",
    "#### Rule 2: Dimension Stretching\n",
    "- If the shape of the two arrays does not match in any dimension, the array with shape equal to 1 in that dimension is stretched to match the other shape. This virtual stretching allows the smaller array to be broadcast across the larger array without actual data replication.\n",
    "\n",
    "##### Rule 3: Dimension Mismatch Error\n",
    "- If in any dimension the sizes disagree and neither is equal to 1, an error is raised. This ensures that only compatible shapes can be broadcast together, preventing ambiguous operations.\n",
    "\n",
    "Broadcasting in NumPy simplifies arithmetic operations on arrays of different shapes by virtually expanding the smaller array to match the shape of the larger array. The three key rules of broadcasting are:\n",
    "1. **Dimension Padding**: Pad the shape of the smaller array with ones on the left side.\n",
    "2. **Dimension Stretching**: Stretch the array with shape equal to 1 in any dimension to match the other shape.\n",
    "3. **Dimension Mismatch Error**: Raise an error if the sizes disagree in any dimension and neither is equal to 1.\n",
    "\n",
    "Understanding these rules helps in efficiently performing numerical computations and avoiding common pitfalls."
   ]
  },
  {
   "cell_type": "code",
   "execution_count": null,
   "metadata": {},
   "outputs": [],
   "source": [
    "# Broadcasting with Different Dimensions\n",
    "# Creating a 1D array and a 2D array\n",
    "A = np.array([1, 2, 3])  # Shape (3,)\n",
    "B = np.array([[10], [20], [30]])  # Shape (3, 1)\n",
    "\n",
    "# Broadcasting A to match the shape of B\n",
    "# A is padded to shape (1, 3) and then stretched to shape (3, 3)\n",
    "result = A + B\n",
    "result"
   ]
  },
  {
   "cell_type": "code",
   "execution_count": null,
   "metadata": {},
   "outputs": [],
   "source": [
    "# Broadcasting with Higher Dimensions\n",
    "# Creating a 3D array and a 2D array\n",
    "C = np.array([[[1, 2, 3], [4, 5, 6]]])  # Shape (1, 2, 3)\n",
    "D = np.array([[10], [20]])  # Shape (2, 1)\n",
    "\n",
    "# Broadcasting D to match the shape of C\n",
    "# D is padded to shape (1, 2, 1) and then stretched to shape (1, 2, 3)\n",
    "result = C + D\n",
    "result\n"
   ]
  },
  {
   "cell_type": "code",
   "execution_count": null,
   "metadata": {},
   "outputs": [],
   "source": [
    "# Broadcasting with Scalars\n",
    "# Creating a 2D array\n",
    "E = np.array([[1, 2, 3], [4, 5, 6]])  # Shape (2, 3)\n",
    "\n",
    "# Broadcasting a scalar to match the shape of E\n",
    "# The scalar is treated as an array with shape (1,) and then stretched to shape (2, 3)\n",
    "result = E * 2\n",
    "result\n"
   ]
  },
  {
   "cell_type": "code",
   "execution_count": null,
   "metadata": {},
   "outputs": [],
   "source": [
    "# Broadcasting with Mismatched Shapes\n",
    "# Creating two 2D arrays with mismatched shapes\n",
    "F = np.array([[1, 2, 3], [4, 5, 6]])  # Shape (2, 3)\n",
    "G = np.array([[10], [20]])  # Shape (2, 1)\n",
    "\n",
    "# Broadcasting G to match the shape of F\n",
    "# G is stretched to shape (2, 3)\n",
    "result = F + G\n",
    "result\n"
   ]
  },
  {
   "cell_type": "code",
   "execution_count": null,
   "metadata": {},
   "outputs": [],
   "source": [
    "# Broadcasting with Multi-Dimensional Arrays\n",
    "# Creating a 3D array and a 1D array\n",
    "H = np.array([[[1, 2, 3], [4, 5, 6]], [[7, 8, 9], [10, 11, 12]]])  # Shape (2, 2, 3)\n",
    "I = np.array([10, 20, 30])  # Shape (3,)\n",
    "\n",
    "# Broadcasting I to match the shape of H\n",
    "# I is padded to shape (1, 1, 3) and then stretched to shape (2, 2, 3)\n",
    "result = H + I\n",
    "result"
   ]
  },
  {
   "cell_type": "markdown",
   "metadata": {},
   "source": [
    "The dot product of two vectors is the sum of the products of their corresponding elements. For matrices, the dot product is equivalent to matrix multiplication.\n",
    "- The `np.dot()` function computes the dot product of two arrays. It can handle both vectors and matrices.\n",
    "- The `@` operator is a shorthand for the `np.dot()` function and can be used for matrix multiplication."
   ]
  },
  {
   "cell_type": "code",
   "execution_count": null,
   "metadata": {},
   "outputs": [],
   "source": [
    "# Dot Product of 1D and 2D Arrays\n",
    "vector = np.array([1, 2])\n",
    "matrix = np.array([[3, 4], [5, 6]])\n",
    "np.dot(vector, matrix)"
   ]
  },
  {
   "cell_type": "code",
   "execution_count": null,
   "metadata": {},
   "outputs": [],
   "source": [
    "# Transposing a 2D Array (Matrix)\n",
    "matrix = np.array([[1, 2, 3], [4, 5, 6]])\n",
    "print(matrix)\n",
    "\n",
    "# Transposing the matrix\n",
    "transposed_matrix = np.transpose(matrix)\n",
    "print(transposed_matrix)\n",
    "\n",
    "# Alternatively, you can use the .T attribute to transpose\n",
    "transposed_matrix_T = matrix.T\n",
    "print(transposed_matrix_T)"
   ]
  },
  {
   "cell_type": "markdown",
   "metadata": {},
   "source": [
    "## Matplot"
   ]
  },
  {
   "cell_type": "code",
   "execution_count": null,
   "metadata": {},
   "outputs": [],
   "source": [
    "# Creating a dictionary with more data\n",
    "data = {\n",
    "    'Year': [2015, 2016, 2017, 2018, 2019, 2020, 2021, 2022, 2023],\n",
    "    'Sales': [200, 300, 400, 500, 600, 700, 800, 900, 1000],\n",
    "    'Profit': [20, 30, 40, 50, 60, 70, 80, 90, 100],\n",
    "    'Expenses': [180, 270, 360, 450, 540, 630, 720, 810, 900]\n",
    "}\n",
    "\n",
    "# Converting the dictionary to a DataFrame\n",
    "df = pd.DataFrame(data)\n",
    "\n",
    "# Setting the figure size\n",
    "plt.figure(figsize=(12, 8))\n",
    "\n",
    "# Line plot for Sales\n",
    "plt.subplot(2, 2, 1)  # Creating a subplot (2 rows, 2 columns, 1st plot)\n",
    "df.plot(x='Year', y='Sales', kind='line', ax=plt.gca())  # Plotting line plot for Sales\n",
    "plt.title('Sales Over Years')  # Setting the title for the subplot\n",
    "plt.xlabel('Year')  # Setting the x-axis label\n",
    "plt.ylabel('Sales')  # Setting the y-axis label\n",
    "plt.grid(True)  # Enabling the grid\n",
    "\n",
    "# Bar plot for Profit\n",
    "plt.subplot(2, 2, 2)  # Creating a subplot (2 rows, 2 columns, 2nd plot)\n",
    "df.plot(x='Year', y='Profit', kind='bar', ax=plt.gca())  # Plotting bar plot for Profit\n",
    "plt.title('Profit Over Years')  # Setting the title for the subplot\n",
    "plt.xlabel('Year')  # Setting the x-axis label\n",
    "plt.ylabel('Profit')  # Setting the y-axis label\n",
    "plt.grid(True)  # Enabling the grid\n",
    "\n",
    "# Scatter plot for Expenses\n",
    "plt.subplot(2, 2, 3)  # Creating a subplot (2 rows, 2 columns, 3rd plot)\n",
    "df.plot(x='Year', y='Expenses', kind='scatter', ax=plt.gca())  # Plotting scatter plot for Expenses\n",
    "plt.title('Expenses Over Years')  # Setting the title for the subplot\n",
    "plt.xlabel('Year')  # Setting the x-axis label\n",
    "plt.ylabel('Expenses')  # Setting the y-axis label\n",
    "plt.grid(True)  # Enabling the grid\n",
    "\n",
    "# Line plot for Sales and Profit\n",
    "plt.subplot(2, 2, 4)  # Creating a subplot (2 rows, 2 columns, 4th plot)\n",
    "df.plot(x='Year', y=['Sales', 'Profit'], kind='line', ax=plt.gca())  # Plotting line plot for Sales and Profit\n",
    "plt.title('Sales and Profit Over Years')  # Setting the title for the subplot\n",
    "plt.xlabel('Year')  # Setting the x-axis label\n",
    "plt.ylabel('Amount')  # Setting the y-axis label\n",
    "plt.grid(True)  # Enabling the grid\n",
    "\n",
    "# Customizing the overall plot\n",
    "plt.suptitle('Company Financial Data Over Years')  # Setting the overall title for the figure\n",
    "plt.tight_layout(rect=[0, 0, 1, 0.96])  # Adjusting the layout to make room for the suptitle\n",
    "\n",
    "# Displaying the plots\n",
    "plt.show()"
   ]
  }
 ],
 "metadata": {
  "kernelspec": {
   "display_name": "Python 3",
   "language": "python",
   "name": "python3"
  },
  "language_info": {
   "codemirror_mode": {
    "name": "ipython",
    "version": 3
   },
   "file_extension": ".py",
   "mimetype": "text/x-python",
   "name": "python",
   "nbconvert_exporter": "python",
   "pygments_lexer": "ipython3",
   "version": "3.10.11"
  }
 },
 "nbformat": 4,
 "nbformat_minor": 2
}
