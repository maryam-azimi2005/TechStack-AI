{
 "cells": [
  {
   "cell_type": "markdown",
   "metadata": {},
   "source": [
    "# Color Image Quantization\n",
    "Reduce the number of colors in images (`lena.png`, `peppers.tif`) to 16 using K-means clustering, implemented from scratch. Log L2 norms per iteration and optionally visualize quantized images."
   ]
  },
  {
   "cell_type": "code",
   "execution_count": 3,
   "metadata": {},
   "outputs": [],
   "source": [
    "import cv2\n",
    "import numpy as np\n",
    "import matplotlib.pyplot as plt"
   ]
  },
  {
   "cell_type": "code",
   "execution_count": null,
   "metadata": {},
   "outputs": [],
   "source": [
    "import numpy as np\n",
    "import matplotlib.pyplot as plt\n",
    "\n",
    "def kmeans_quantization(image, k=16, max_iterations=100, visualize=False):\n",
    "    \"\"\"Perform K-means color quantization on an image.\"\"\"\n",
    "    \n",
    "    # 1. Reshape image to list of pixels (N, 3)\n",
    "    h, w, c = image.shape\n",
    "    pixels = image.reshape(-1, 3).astype(np.float32)   # (N, 3)\n",
    "    n_pixels = pixels.shape[0]\n",
    "    \n",
    "    # 2. Initialize k centroids randomly from pixels\n",
    "    rng = np.random.default_rng(seed=42)  # seed برای reproducibility\n",
    "    centroids = pixels[rng.choice(n_pixels, size=k, replace=False)].copy()\n",
    "    \n",
    "    l2_norms = []\n",
    "    \n",
    "    for it in range(max_iterations):\n",
    "        # 3. Assign pixels to nearest centroid (L2 norm)\n",
    "        distances = np.linalg.norm(pixels[:, None] - centroids[None, :], axis=2)  # (N, k)\n",
    "        labels = np.argmin(distances, axis=1)  # (N,)\n",
    "        \n",
    "        # 4. Update centroids as mean of assigned pixels\n",
    "        new_centroids = np.copy(centroids)\n",
    "        for j in range(k):\n",
    "            mask = labels == j\n",
    "            if np.any(mask):\n",
    "                new_centroids[j] = pixels[mask].mean(axis=0)\n",
    "        \n",
    "        # 5. Create quantized image and calculate L2 norm\n",
    "        quantized_pixels = new_centroids[labels]\n",
    "        quantized_image = quantized_pixels.reshape(h, w, c)\n",
    "        l2 = calculate_l2_norm(image, quantized_image)\n",
    "        l2_norms.append(l2)\n",
    "        \n",
    "        print(f\"Iteration {it+1}: L2 norm = {l2:.6f}\")\n",
    "        \n",
    "        # Visualization\n",
    "        if visualize and (it < 5 or it % 5 == 0): \n",
    "            plt.figure(figsize=(6, 6))\n",
    "            plt.imshow(quantized_image)\n",
    "            plt.title(f\"Iteration {it+1}, L2={l2:.2f}\")\n",
    "            plt.axis(\"off\")\n",
    "            plt.show()\n",
    "        \n",
    "        # Check for convergence\n",
    "        if np.allclose(new_centroids, centroids, atol=1e-6):\n",
    "            print(f\"Converged after {it+1} iterations\")\n",
    "            break\n",
    "        \n",
    "        centroids = new_centroids\n",
    "    \n",
    "    # Final quantized image\n",
    "    final_quantized_pixels = centroids[labels]\n",
    "    final_quantized_image = final_quantized_pixels.reshape(h, w, c)\n",
    "    \n",
    "    return final_quantized_image, l2_norms\n",
    "          \n"
   ]
  },
  {
   "cell_type": "code",
   "execution_count": 13,
   "metadata": {},
   "outputs": [],
   "source": [
    "def calculate_l2_norm(original, quantized):\n",
    "    \"\"\"Calculate total L2 norm between original and quantized images.\"\"\"\n",
    "    diff = original - quantized\n",
    "    l2_norm = np.sqrt(np.sum(diff ** 2))  # Total L2 norm\n",
    "    return l2_norm"
   ]
  },
  {
   "cell_type": "code",
   "execution_count": 23,
   "metadata": {},
   "outputs": [],
   "source": [
    "# Load images\n",
    "lena_path = './images/lena.png'\n",
    "\n",
    "lena = cv2.imread(lena_path).astype(np.float32) / 255.0\n",
    "\n",
    "# Parameters\n",
    "k = 16\n",
    "max_iterations = 100\n",
    "visualize = True"
   ]
  },
  {
   "cell_type": "code",
   "execution_count": null,
   "metadata": {},
   "outputs": [],
   "source": [
    "# Process images\n",
    "lena_quantized, lena_l2_norms = kmeans_quantization(lena, k, max_iterations, visualize)\n",
    "\n",
    "# Save L2 norms\n",
    "with open('L2_norm_log.txt', 'w') as f:\n",
    "    f.write('Lena L2 Norms:\\n' + '\\n'.join(map(str, lena_l2_norms)) + '\\n')\n",
    "\n",
    "# Calculate final L2 norms\n",
    "lena_l2 = calculate_l2_norm(lena, lena_quantized)\n",
    "\n",
    "# Visualize results\n",
    "plt.imshow(cv2.cvtColor(lena_quantized, cv2.COLOR_BGR2RGB))\n",
    "plt.title('Lena Quantized')\n",
    "plt.axis('off')\n",
    "plt.show()\n",
    "\n",
    "print(f'Total L2 Norm: {lena_l2:.2f}')\n",
    "\n",
    "# Save quantized images\n",
    "cv2.imwrite('lena_quantized.png', (lena_quantized * 255).astype(np.uint8))"
   ]
  }
 ],
 "metadata": {
  "kernelspec": {
   "display_name": "slm",
   "language": "python",
   "name": "python3"
  },
  "language_info": {
   "codemirror_mode": {
    "name": "ipython",
    "version": 3
   },
   "file_extension": ".py",
   "mimetype": "text/x-python",
   "name": "python",
   "nbconvert_exporter": "python",
   "pygments_lexer": "ipython3",
   "version": "3.12.10"
  }
 },
 "nbformat": 4,
 "nbformat_minor": 4
}
