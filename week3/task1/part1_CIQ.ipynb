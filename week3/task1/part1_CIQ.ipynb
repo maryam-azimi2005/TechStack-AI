{
 "cells": [
  {
   "cell_type": "markdown",
   "metadata": {},
   "source": [
    "# Color Image Quantization\n",
    "Reduce the number of colors in images (`lena.png`, `peppers.tif`) to 16 using K-means clustering, implemented from scratch. Log L2 norms per iteration and optionally visualize quantized images."
   ]
  },
  {
   "cell_type": "code",
   "execution_count": null,
   "metadata": {},
   "outputs": [],
   "source": [
    "import cv2\n",
    "import numpy as np\n",
    "import matplotlib.pyplot as plt"
   ]
  },
  {
   "cell_type": "code",
   "execution_count": null,
   "metadata": {},
   "outputs": [],
   "source": [
    "def kmeans_quantization(image, k=16, max_iterations=100, visualize=False):\n",
    "    \"\"\"Perform K-means color quantization on an image.\n",
    "    \n",
    "    Args:\n",
    "        image: Input image (H, W, 3) as float32 in [0, 1].\n",
    "        k: Number of clusters (colors).\n",
    "        max_iterations: Maximum number of iterations.\n",
    "        visualize: If True, display quantized image per iteration.\n",
    "    \n",
    "    Returns:\n",
    "        quantized_image: Image with k colors.\n",
    "        l2_norms: List of L2 norms per iteration.\n",
    "    \"\"\"\n",
    "    # TODO: Implement K-means clustering from scratch\n",
    "    # 1. Reshape image to list of pixels (N, 3)\n",
    "    # 2. Initialize k centroids randomly\n",
    "    # 3. Assign pixels to nearest centroid (L2 norm)\n",
    "    # 4. Update centroids as mean of assigned pixels\n",
    "    # 5. Log L2 norm per iteration\n",
    "    # 6. Visualize if flag is enabled\n",
    "    pass"
   ]
  },
  {
   "cell_type": "code",
   "execution_count": null,
   "metadata": {},
   "outputs": [],
   "source": [
    "def calculate_l2_norm(original, quantized):\n",
    "    \"\"\"Calculate total L2 norm between original and quantized images.\n",
    "    \n",
    "    Args:\n",
    "        original: Original image (H, W, 3) as float32 in [0, 1].\n",
    "        quantized: Quantized image (H, W, 3) as float32 in [0, 1].\n",
    "    \n",
    "    Returns:\n",
    "        l2_norm: Total L2 norm across all pixels.\n",
    "    \"\"\"\n",
    "    # TODO: Compute L2 norm: sqrt(sum((R1-R2)^2 + (G1-G2)^2 + (B1-B2)^2))\n",
    "    pass"
   ]
  },
  {
   "cell_type": "code",
   "execution_count": null,
   "metadata": {},
   "outputs": [],
   "source": [
    "# Load images\n",
    "lena_path = './images_CIQ/lena.png'\n",
    "\n",
    "lena = cv2.imread(lena_path).astype(np.float32) / 255.0\n",
    "\n",
    "# Parameters\n",
    "k = 16\n",
    "max_iterations = 100\n",
    "visualize = True"
   ]
  },
  {
   "cell_type": "code",
   "execution_count": null,
   "metadata": {},
   "outputs": [],
   "source": [
    "# Process images\n",
    "lena_quantized, lena_l2_norms = kmeans_quantization(lena, k, max_iterations, visualize)\n",
    "\n",
    "# Save L2 norms\n",
    "with open('L2_norm_log.txt', 'w') as f:\n",
    "    f.write('Lena L2 Norms:\\n' + '\\n'.join(map(str, lena_l2_norms)) + '\\n')\n",
    "\n",
    "# Calculate final L2 norms\n",
    "lena_l2 = calculate_l2_norm(lena, lena_quantized)\n",
    "\n",
    "# Visualize results\n",
    "plt.imshow(cv2.cvtColor(lena_quantized, cv2.COLOR_BGR2RGB))\n",
    "plt.title('Lena Quantized')\n",
    "plt.axis('off')\n",
    "plt.show()\n",
    "\n",
    "print(f'Total L2 Norm: {lena_l2:.2f}')\n",
    "\n",
    "# Save quantized images\n",
    "cv2.imwrite('lena_quantized.png', (lena_quantized * 255).astype(np.uint8))"
   ]
  }
 ],
 "metadata": {
  "kernelspec": {
   "display_name": "Python 3",
   "language": "python",
   "name": "python3"
  },
  "language_info": {
   "codemirror_mode": {
    "name": "ipython",
    "version": 3
   },
   "file_extension": ".py",
   "mimetype": "text/x-python",
   "name": "python",
   "nbconvert_exporter": "python",
   "pygments_lexer": "ipython3",
   "version": "3.8.10"
  }
 },
 "nbformat": 4,
 "nbformat_minor": 4
}
